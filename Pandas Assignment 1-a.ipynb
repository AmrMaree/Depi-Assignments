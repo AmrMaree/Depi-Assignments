{
 "cells": [
  {
   "cell_type": "markdown",
   "metadata": {},
   "source": [
    "## Loading/Exploring the data\n",
    "\n",
    "Load the iris.csv file into a pandas dataframe. Take a minute to familiarize yourself with the data."
   ]
  },
  {
   "cell_type": "markdown",
   "metadata": {},
   "source": [
    "## Import Pandas\n",
    "\n",
    "Import the `pandas` library as `pd`"
   ]
  },
  {
   "cell_type": "code",
   "execution_count": 36,
   "metadata": {},
   "outputs": [],
   "source": [
    "import pandas as pd"
   ]
  },
  {
   "cell_type": "markdown",
   "metadata": {},
   "source": [
    "Read the `iris.csv` dataset into an object named `iris`"
   ]
  },
  {
   "cell_type": "code",
   "execution_count": 58,
   "metadata": {},
   "outputs": [],
   "source": [
    "iris = pd.read_csv(\"datasets/iris.csv\")"
   ]
  },
  {
   "cell_type": "markdown",
   "metadata": {},
   "source": [
    "How many different species are in this dataset?"
   ]
  },
  {
   "cell_type": "code",
   "execution_count": 59,
   "metadata": {},
   "outputs": [
    {
     "name": "stdout",
     "output_type": "stream",
     "text": [
      "3\n"
     ]
    }
   ],
   "source": [
    "unique_species_number = iris['species'].nunique()\n",
    "print(unique_species_number)"
   ]
  },
  {
   "cell_type": "markdown",
   "metadata": {},
   "source": [
    "What are their names?"
   ]
  },
  {
   "cell_type": "code",
   "execution_count": 60,
   "metadata": {},
   "outputs": [
    {
     "name": "stdout",
     "output_type": "stream",
     "text": [
      "['setosa' 'versicolor' 'virginica']\n"
     ]
    }
   ],
   "source": [
    "unique_species = iris['species'].unique()\n",
    "print(unique_species)"
   ]
  },
  {
   "cell_type": "markdown",
   "metadata": {},
   "source": [
    "How many samples are there per species?\n",
    "\n",
    "<details><summary>Hint</summary>Use the <a href=\"http://pandas.pydata.org/pandas-docs/stable/generated/pandas.Series.value_counts.html\"><code>.value_counts()</code></a> method</details>"
   ]
  },
  {
   "cell_type": "code",
   "execution_count": 61,
   "metadata": {},
   "outputs": [
    {
     "name": "stdout",
     "output_type": "stream",
     "text": [
      "species\n",
      "setosa        50\n",
      "versicolor    50\n",
      "virginica     50\n",
      "Name: count, dtype: int64\n"
     ]
    }
   ],
   "source": [
    "sample_per_species = iris['species'].value_counts()\n",
    "print(sample_per_species)"
   ]
  },
  {
   "cell_type": "markdown",
   "metadata": {},
   "source": [
    "## Feature Engineering\n",
    "\n",
    "Create a new column called `'sepal_ratio'` which is equal to sepal width / sepal length"
   ]
  },
  {
   "cell_type": "code",
   "execution_count": 62,
   "metadata": {},
   "outputs": [
    {
     "name": "stdout",
     "output_type": "stream",
     "text": [
      "0      0.686275\n",
      "1      0.612245\n",
      "2      0.680851\n",
      "3      0.673913\n",
      "4      0.720000\n",
      "         ...   \n",
      "145    0.447761\n",
      "146    0.396825\n",
      "147    0.461538\n",
      "148    0.548387\n",
      "149    0.508475\n",
      "Name: sepal_ratio, Length: 150, dtype: float64\n"
     ]
    }
   ],
   "source": [
    "iris['sepal_ratio'] = iris['sepal width (cm)'] / iris['sepal length (cm)']\n",
    "print(iris['sepal_ratio'])"
   ]
  },
  {
   "cell_type": "markdown",
   "metadata": {},
   "source": [
    "Create a similar column called `'petal_ratio'`: petal width / petal length"
   ]
  },
  {
   "cell_type": "code",
   "execution_count": 63,
   "metadata": {},
   "outputs": [
    {
     "name": "stdout",
     "output_type": "stream",
     "text": [
      "0      0.142857\n",
      "1      0.142857\n",
      "2      0.153846\n",
      "3      0.133333\n",
      "4      0.142857\n",
      "         ...   \n",
      "145    0.442308\n",
      "146    0.380000\n",
      "147    0.384615\n",
      "148    0.425926\n",
      "149    0.352941\n",
      "Name: petal_ratio, Length: 150, dtype: float64\n"
     ]
    }
   ],
   "source": [
    "iris['petal_ratio'] = iris['petal width (cm)'] / iris['petal length (cm)']\n",
    "print(iris['petal_ratio'])"
   ]
  },
  {
   "cell_type": "markdown",
   "metadata": {},
   "source": [
    "Create 4 columns that correspond to `sepal length (cm)`, `sepal width (cm)`, `petal length (cm)`, and `petal width (cm)`, only in inches."
   ]
  },
  {
   "cell_type": "code",
   "execution_count": 64,
   "metadata": {},
   "outputs": [],
   "source": [
    "iris['sepal_length_inches'] = iris['sepal length (cm)'] * 0.393701\n",
    "iris['sepal_width_inches'] = iris['sepal width (cm)'] * 0.393701\n",
    "iris['petal_length_inches'] = iris['petal length (cm)'] * 0.393701\n",
    "iris['petal_width_inches'] = iris['petal width (cm)'] * 0.393701"
   ]
  },
  {
   "cell_type": "markdown",
   "metadata": {},
   "source": [
    "## Apply\n",
    "\n",
    "Create a column called `'encoded_species'`:\n",
    "- 0 for setosa\n",
    "- 1 for versicolor\n",
    "- 2 for virginica\n",
    "\n",
    "\n",
    "Hint 1\n",
    "Create a dictionary using the species as keys and the numbers 0-2 for values\n",
    "\n",
    "\n",
    "Hint 2\n",
    "    Use the dictionary in hint 1 with the <code>.apply()</code> method to create the new column\n"
   ]
  },
  {
   "cell_type": "code",
   "execution_count": 65,
   "metadata": {},
   "outputs": [
    {
     "name": "stdout",
     "output_type": "stream",
     "text": [
      "0      0\n",
      "1      0\n",
      "2      0\n",
      "3      0\n",
      "4      0\n",
      "      ..\n",
      "145    2\n",
      "146    2\n",
      "147    2\n",
      "148    2\n",
      "149    2\n",
      "Name: encoded_species, Length: 150, dtype: int64\n"
     ]
    }
   ],
   "source": [
    "species = {\"setosa\": 0, \"versicolor\": 1, \"virginica\": 2}\n",
    "\n",
    "iris[\"encoded_species\"] = iris[\"species\"].apply(lambda x: species[x])\n",
    "print(iris[\"encoded_species\"])"
   ]
  },
  {
   "cell_type": "markdown",
   "metadata": {},
   "source": [
    "## March Madness\n",
    "\n",
    "Let's change up the dataset to something different than flowers: March Madness!\n",
    "\n",
    "Read in the dataset `ncaa-seeds.csv` to an object named `seeds`.\n",
    "\n",
    "This dataframe simulates the games that will occur in the first round of the [NCAA basketball tournament](http://www.sportingnews.com/au/ncaa-basketball/news/ncaa-tournament-2017-march-madness-bracket-schedule-matchups-print-a-bracket/1r6cau9sb1xj4131zzhay2dj5g). In the first row, you should see the following:\n",
    "\n",
    "| team_seed | opponent_seed |\n",
    "|-----------|---------------|\n",
    "| 01N       | 16N           |"
   ]
  },
  {
   "cell_type": "code",
   "execution_count": 109,
   "metadata": {},
   "outputs": [
    {
     "name": "stdout",
     "output_type": "stream",
     "text": [
      "  team_seed opponent_seed\n",
      "0       01N           16N\n",
      "1       02N           15N\n",
      "2       03N           14N\n",
      "3       04N           13N\n",
      "4       05N           12N\n"
     ]
    }
   ],
   "source": [
    "seeds = pd.read_csv('datasets/ncaa-seeds.csv')\n",
    "print(seeds.head())"
   ]
  },
  {
   "cell_type": "markdown",
   "metadata": {},
   "source": [
    "For team_seed, the 01 is their seed, and N is their division (North). This row is saying the 1st seed in the north division will play the 16th seed (same division).\n",
    "\n",
    "Using the `.apply()` method, create the following new columns:\n",
    "- `team_division`\n",
    "- `opponent_division`\n",
    "\n",
    "The first row of your result should look as follows:\n",
    "\n",
    "| team_seed | opponent_seed | team_division | opponent_division |\n",
    "|-----------|---------------|---------------|-------------------|\n",
    "| 01N       | 16N           | N             | N                 |\n"
   ]
  },
  {
   "cell_type": "code",
   "execution_count": 110,
   "metadata": {},
   "outputs": [
    {
     "name": "stdout",
     "output_type": "stream",
     "text": [
      "  team_seed opponent_seed team_division opponent_division\n",
      "0       01N           16N             N                 N\n",
      "1       02N           15N             N                 N\n",
      "2       03N           14N             N                 N\n",
      "3       04N           13N             N                 N\n",
      "4       05N           12N             N                 N\n"
     ]
    }
   ],
   "source": [
    "seeds[\"team_division\"] = seeds[\"team_seed\"].apply(lambda x: x[-1])\n",
    "seeds[\"opponent_division\"] = seeds[\"opponent_seed\"].apply(lambda x: x[-1])\n",
    "print(seeds.head())"
   ]
  },
  {
   "cell_type": "markdown",
   "metadata": {},
   "source": [
    "Now that you have the divisions, change the `team_seed` and `opponent_seed` columns to just be the numbers.\n",
    "\n",
    "The first row of your result should look as follows:\n",
    "\n",
    "| team_seed | opponent_seed | team_division | opponent_division |\n",
    "|-----------|---------------|---------------|-------------------|\n",
    "| 1         | 16            | N             | N                 |"
   ]
  },
  {
   "cell_type": "code",
   "execution_count": null,
   "metadata": {},
   "outputs": [
    {
     "name": "stdout",
     "output_type": "stream",
     "text": [
      "   team_seed  opponent_seed team_division opponent_division\n",
      "0          1             16             N                 N\n",
      "1          2             15             N                 N\n",
      "2          3             14             N                 N\n",
      "3          4             13             N                 N\n",
      "4          5             12             N                 N\n"
     ]
    }
   ],
   "source": [
    "seeds['team_seed'] = seeds['team_seed'].apply(lambda x: int(str(x)[:-1]))\n",
    "seeds['opponent_seed'] = seeds['opponent_seed'].apply(lambda x: int(str(x)[:-1]))\n",
    "\n",
    "print(seeds.head())\n"
   ]
  },
  {
   "cell_type": "markdown",
   "metadata": {},
   "source": [
    "Create a new column called seed_delta, which is the difference between the team's seed and their opponent's. \n",
    "\n",
    "The first row of your result should look as follows:\n",
    "\n",
    "| team_seed | opponent_seed | team_division | opponent_division | seed_delta |\n",
    "|-----------|---------------|---------------|-------------------|------------|\n",
    "| 1         | 16            | N             | N                 | -15        |\n",
    "\n",
    "<br>\n",
    "<details><summary>Did you get an error?</summary>\n",
    "team_seed and opponent_seed need to be numerical columns in order for you to perform mathematical operations on them.\n",
    "</details>"
   ]
  },
  {
   "cell_type": "code",
   "execution_count": 112,
   "metadata": {},
   "outputs": [
    {
     "name": "stdout",
     "output_type": "stream",
     "text": [
      "   team_seed  opponent_seed team_division opponent_division  seed_delta\n",
      "0          1             16             N                 N         -15\n",
      "1          2             15             N                 N         -13\n",
      "2          3             14             N                 N         -11\n",
      "3          4             13             N                 N          -9\n",
      "4          5             12             N                 N          -7\n"
     ]
    }
   ],
   "source": [
    "seeds['team_seed'] = pd.to_numeric(seeds['team_seed'], errors='coerce')\n",
    "seeds['opponent_seed'] = pd.to_numeric(seeds['opponent_seed'], errors='coerce')\n",
    "\n",
    "seeds['seed_delta'] = seeds['team_seed'] - seeds['opponent_seed']\n",
    "\n",
    "print(seeds.head())\n"
   ]
  }
 ],
 "metadata": {
  "anaconda-cloud": {},
  "kernelspec": {
   "display_name": "venv",
   "language": "python",
   "name": "python3"
  },
  "language_info": {
   "codemirror_mode": {
    "name": "ipython",
    "version": 3
   },
   "file_extension": ".py",
   "mimetype": "text/x-python",
   "name": "python",
   "nbconvert_exporter": "python",
   "pygments_lexer": "ipython3",
   "version": "3.10.12"
  }
 },
 "nbformat": 4,
 "nbformat_minor": 4
}
